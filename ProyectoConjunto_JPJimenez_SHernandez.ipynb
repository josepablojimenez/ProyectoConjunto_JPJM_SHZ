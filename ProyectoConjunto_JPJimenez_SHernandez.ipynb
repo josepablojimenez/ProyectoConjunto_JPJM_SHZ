{
 "cells": [
  {
   "cell_type": "markdown",
   "id": "79ff8302",
   "metadata": {},
   "source": [
    "<img style=\"float: left; margin: 30px 15px 15px 15px;\" src=\"https://pngimage.net/wp-content/uploads/2018/06/logo-iteso-png-5.png\" width=\"300\" height=\"500\" /> \n",
    "    \n",
    "    \n",
    "### <font color='navy'> Simulación de procesos financieros. \n",
    "\n",
    "**Nombres:** Sofia Hernandez Zatarain y José Pablo Jiménez Mendoza\n",
    "\n",
    "**Fecha:** 11 Marzo 2023.\n",
    "\n",
    "**Expediente** :  y 733762\n",
    "**Profesor:** Oscar David Jaramillo Zuluaga.\n",
    "    \n",
    "**Link Github**: https://github.com/josepablojimenez/ProyectoConjunto_JPJM_SHZ.git\n",
    "\n",
    "# Tarea 4"
   ]
  },
  {
   "cell_type": "markdown",
   "id": "d4df3c93",
   "metadata": {},
   "source": [
    ">### <font color ='red'> **Tarea 4** \n",
    "    \n",
    "> Para las siguiente dos funciones, genere muestres aleatorias que distribuyan según la función dada usando el método de la transformada inversa y grafique el histograma de 1000 muestras generadas con el método de la transformada inversa y compárela con el función $f(x)$ **(recuerde que $f(x)$ es la distribución de probabilidad y $F(x)$ es la distribución de probabilidad acumulada)** [ver este enlace para más información](https://es.wikipedia.org/wiki/Funci%C3%B3n_de_distribuci%C3%B3n). Este procedimiento se realiza con el fín de validar que el procedimiento y los resultados son correctos.\n",
    "    \n",
    "> 1. Generación variable aleatoria continua\n",
    ">El tiempo en el cual un movimiento browniano se mantiene sobre su punto máximo en el intervalo [0,1] tiene una distribución\n",
    ">$$F(x)=\\frac{2}{\\pi}\\sin^{-1}(\\sqrt x),\\quad 0\\leq x\\leq 1$$ </font>\n",
    "\n",
    "> 2. Generación variable aleatoria Discreta\n",
    "> La distribución binomial modela el número de éxitos de n ensayos independientes donde hay una probabilidad p de éxito en cada ensayo.\n",
    "> Generar una variable aletoria binomial con parámetros $n=10$ y $p=0.7$. Recordar que $$X\\sim binomial(n,p) \\longrightarrow p_i=P(X=i)=\\frac{n!}{i!(n-i)!}p^i(1-p)^{n-i},\\quad i=0,1,\\cdots,n$$\n",
    "> Por propiedades de la operación factorial la anterior $p_i$ se puede escribir como:\n",
    "> $$p_{i+1}=\\frac{n-i}{i+1}\\frac{p}{1-p} p_i $$\n",
    "\n",
    "> **Nota:** Por notación recuerde que para el caso continuo $f(x)$ es la distribución de probabilidad (PDF), mientras $F(x)$ corresponde a la distribución de probabilidad acumulada (CDF). Para el caso discreto, $P(X=i)$ corresponde a su distribución de probabilidad (PMF) y $ F_{X}(x)=\\operatorname {P} (X\\leq x)=\\sum _{x_{i}\\leq x}\\operatorname {P} (X=x_{i})=\\sum _{x_{i}\\leq x}p(x_{i})$, corresponde a su distribución de probabilidad acumulada (CDF).\n"
   ]
  },
  {
   "cell_type": "code",
   "execution_count": 1,
   "id": "1dc0542c",
   "metadata": {},
   "outputs": [],
   "source": [
    "# Importamos las librerías principales\n",
    "import numpy as np\n",
    "import matplotlib.pyplot as plt\n",
    "import pandas as pd"
   ]
  },
  {
   "cell_type": "markdown",
   "id": "27427ce1",
   "metadata": {},
   "source": [
    "# ejercicio 1\n",
    "> 1. Generación variable aleatoria continua\n",
    ">El tiempo en el cual un movimiento browniano se mantiene sobre su punto máximo en el intervalo [0,1] tiene una distribución\n",
    ">$$F(x)=\\frac{2}{\\pi}\\sin^{-1}(\\sqrt x),\\quad 0\\leq x\\leq 1$$ </font>\n"
   ]
  },
  {
   "cell_type": "code",
   "execution_count": null,
   "id": "e065283d",
   "metadata": {},
   "outputs": [],
   "source": [
    "# codigo estudiante 1\n"
   ]
  },
  {
   "cell_type": "code",
   "execution_count": null,
   "id": "a204a7ad",
   "metadata": {},
   "outputs": [],
   "source": [
    "# codigo estudiante 2"
   ]
  },
  {
   "cell_type": "markdown",
   "id": "7c03115e",
   "metadata": {},
   "source": [
    "# ejercicio 2\n",
    "> 2. Generación variable aleatoria Discreta\n",
    "> La distribución binomial modela el número de éxitos de n ensayos independientes donde hay una probabilidad p de éxito en cada ensayo.\n",
    "> Generar una variable aletoria binomial con parámetros $n=10$ y $p=0.7$. Recordar que $$X\\sim binomial(n,p) \\longrightarrow p_i=P(X=i)=\\frac{n!}{i!(n-i)!}p^i(1-p)^{n-i},\\quad i=0,1,\\cdots,n$$\n",
    "> Por propiedades de la operación factorial la anterior $p_i$ se puede escribir como:\n",
    "> $$p_{i+1}=\\frac{n-i}{i+1}\\frac{p}{1-p} p_i $$"
   ]
  },
  {
   "cell_type": "code",
   "execution_count": null,
   "id": "174509b6",
   "metadata": {},
   "outputs": [],
   "source": [
    "# codigo del estudiante 1"
   ]
  },
  {
   "cell_type": "code",
   "execution_count": null,
   "id": "364d6c3e",
   "metadata": {},
   "outputs": [],
   "source": [
    "# codigo del estudiante 2"
   ]
  },
  {
   "cell_type": "markdown",
   "id": "219eed3a",
   "metadata": {},
   "source": [
    "### Ejemplo binomial: \n",
    "La distribución binomial modela el número de éxitos de n ensayos independientes donde hay una probabilidad p de éxito en cada ensayo.\n",
    "\n",
    "Generar una variable aletoria binomial con parámetros $n=10$ y $p=0.7$. Recordar que\n",
    "$$X\\sim binomial(n,p) \\longrightarrow p_i=P(X=i)=\\frac{n!}{i!(n-i)!}p^i(1-p)^{n-i},\\quad i=0,1,\\cdots,n$$\n",
    "> ## <font color ='red'>Tarea 4: Demostrar la validez de la siguiente ecuación\n",
    ">$$p_{i+1}=\\frac{n-i}{i+1}\\frac{p}{1-p} p_i \\longrightarrow \\text{Hablar de las ventajas que sea recursiva}$$"
   ]
  },
  {
   "cell_type": "code",
   "execution_count": 2,
   "id": "e37eeef4",
   "metadata": {},
   "outputs": [],
   "source": [
    "# codigo del estudiante 1"
   ]
  },
  {
   "cell_type": "code",
   "execution_count": 3,
   "id": "eb2c1a83",
   "metadata": {},
   "outputs": [],
   "source": [
    "#codigo del estudiante 2"
   ]
  },
  {
   "cell_type": "markdown",
   "id": "7a4b923a",
   "metadata": {},
   "source": [
    "> ## <font color ='red'>Tarea 4\n",
    "Seguir un procedimiento similar al mostrado cuando se generó una distribución binomial, pero en esta caso genere un código que genere variables aletorias Poisson cuya función de distribución de probabilidad esta dada por:\n",
    ">$$P(k,\\lambda)=\\frac{e^{-\\lambda}(\\lambda)^k}{k!}$$\n",
    "    \n",
    "> Demuestre matemáticamente que \n",
    "> $$P(k+1)=\\frac{\\lambda}{k+1}P(k)$$\n",
    "> y a partir de esta relación genere variables aletorias que distribuyen poisson usando el método de la transformada inversa.\n",
    "\n",
    "Enlace: https://es.wikipedia.org/wiki/Distribuci%C3%B3n_de_Poisson\n",
    "    \n",
    "$\n",
    "\\begin{aligned}\n",
    "\\frac{p_{k+1}}{p_k}& = \\frac{e^{-\\lambda}(\\lambda)^k}{k!} \\\\\n",
    "& = \\frac{e^{-\\lambda}(\\lambda)^k}{k!}\n",
    "\\end{aligned}\n",
    "$"
   ]
  },
  {
   "cell_type": "code",
   "execution_count": null,
   "id": "45aa59ce",
   "metadata": {},
   "outputs": [],
   "source": []
  },
  {
   "cell_type": "code",
   "execution_count": 16,
   "id": "374d3047",
   "metadata": {},
   "outputs": [],
   "source": [
    "# codigo del estudiante 1\n",
    "def ejeracum(N):\n",
    "    return (np.sin((np.pi/2)*np.random.random(N)))**2\n",
    "\n",
    "h = lambda x: 1/(np.pi*np.sqrt(x)*np.sqrt(1-x))"
   ]
  },
  {
   "cell_type": "code",
   "execution_count": 17,
   "id": "8da5e2f5",
   "metadata": {},
   "outputs": [
    {
     "name": "stdout",
     "output_type": "stream",
     "text": [
      "0.5147265367276709\n"
     ]
    },
    {
     "name": "stderr",
     "output_type": "stream",
     "text": [
      "C:\\Users\\pabul\\AppData\\Local\\Temp\\ipykernel_26344\\2804120867.py:5: RuntimeWarning: divide by zero encountered in double_scalars\n",
      "  f = lambda x: 1/(np.pi*np.sqrt(x)*np.sqrt(1-x))\n"
     ]
    },
    {
     "data": {
      "image/png": "[encoded data removed]",
      "text/plain": [
       "<Figure size 640x480 with 1 Axes>"
      ]
     },
     "metadata": {},
     "output_type": "display_data"
    }
   ],
   "source": [
    "N = 1000\n",
    "y = ejeracum(N)\n",
    "x = np.arange(0, 1.1, 0.1)\n",
    "plt.plot(x, [f(n) for n in x])\n",
    "plt.hist(y,bins = 50,density=True)\n",
    "print(np.mean(y))\n",
    "plt.show()"
   ]
  },
  {
   "cell_type": "code",
   "execution_count": 18,
   "id": "36c62959",
   "metadata": {},
   "outputs": [
    {
     "name": "stderr",
     "output_type": "stream",
     "text": [
      "C:\\Users\\pabul\\AppData\\Local\\Temp\\ipykernel_26344\\2804120867.py:5: RuntimeWarning: divide by zero encountered in double_scalars\n",
      "  f = lambda x: 1/(np.pi*np.sqrt(x)*np.sqrt(1-x))\n"
     ]
    },
    {
     "data": {
      "image/png": "[encoded data removed]",
      "text/plain": [
       "<Figure size 640x480 with 1 Axes>"
      ]
     },
     "metadata": {},
     "output_type": "display_data"
    }
   ],
   "source": [
    "x = np.arange(0, 1.1, 0.1)\n",
    "plt.plot(x, [f(n) for n in x])\n",
    "plt.show()"
   ]
  },
  {
   "cell_type": "code",
   "execution_count": 19,
   "id": "9da3992c",
   "metadata": {},
   "outputs": [],
   "source": [
    "def Gen_distr_discreta(p_acum: 'P.Acumulada de la distribución a generar',\n",
    "                       indices: 'valores reales a generar aleatoriamente',\n",
    "                       N: 'cantidad de números aleatorios a generar'):\n",
    "    \n",
    "    U =np.random.rand(N)\n",
    "    # Diccionario de valores aleatorios\n",
    "    rand2reales = {i: idx for i, idx in enumerate(indices)}\n",
    "\n",
    "    # Series de los valores aletorios\n",
    "    j = pd.Series([sum([1 for p in p_acum if p < ui]) for ui in U]).map(rand2reales)\n",
    "\n",
    "    return j\n",
    "\n",
    "def plot_histogram_discrete(distribucion:'señal de varibles aleatorias de un distribución DISCRETA dada',\n",
    "                            label:'label del legend a aparecer en el gráfica',\n",
    "                            densidad:'por defecto regresa el histograma en densidad'=True):\n",
    "    # len(set(distribucion)) cuenta la cantidad de elementos distintos de la variable 'distribucion'\n",
    "    plt.figure(figsize=[10,4])\n",
    "    j, x = np.histogram(distribucion, bins=len(set(distribucion)), density=densidad) \n",
    "    plt.bar(x[1:], j, label=label)\n",
    "    plt.legend()\n",
    "    plt.show()\n",
    "    \n",
    "\n",
    "# Función que calcula la probabilidad acumulada optimizada\n",
    "def P_acum_Binomial_o(n,p):\n",
    "    Pr = np.zeros(n)\n",
    "    Pr[0] = (1-p)**n\n",
    "    def pr(i):\n",
    "        nonlocal Pr\n",
    "        c  = p/(1-p)\n",
    "        Pr[i+1]=(c*(n-i)/(i+1))*Pr[i]\n",
    "        \n",
    "    # Lleno el vector Pr usando compresión de listas\n",
    "    [pr(i) for i in range(n-1)]\n",
    "    return np.cumsum(Pr)"
   ]
  },
  {
   "cell_type": "code",
   "execution_count": 38,
   "id": "4f21bb54",
   "metadata": {},
   "outputs": [
    {
     "data": {
      "image/png": "[encoded data removed]",
      "text/plain": [
       "<Figure size 1000x400 with 1 Axes>"
      ]
     },
     "metadata": {},
     "output_type": "display_data"
    }
   ],
   "source": [
    "# def D_binomial_intermedia(n,p,N):\n",
    "n = 10; p = 0.7; N = 10**3\n",
    "\n",
    "p_acum = P_acum_Binomial_o(n,p)\n",
    "\n",
    "# Usando el método de la transformada inversa\n",
    "d_binomial = Gen_distr_discreta(p_acum, np.arange(0, n+1), N)\n",
    "\n",
    "plot_histogram_discrete(d_binomial, 'Ejercicio4')"
   ]
  },
  {
   "cell_type": "code",
   "execution_count": 25,
   "id": "552e4196",
   "metadata": {},
   "outputs": [],
   "source": [
    "# codigo del estudiante 2"
   ]
  },
  {
   "cell_type": "markdown",
   "id": "e231108f",
   "metadata": {},
   "source": [
    "<script>\n",
    "  $(document).ready(function(){\n",
    "    $('div.prompt').hide();\n",
    "    $('div.back-to-top').hide();\n",
    "    $('nav#menubar').hide();\n",
    "    $('.breadcrumb').hide();\n",
    "    $('.hidden-print').hide();\n",
    "  });\n",
    "</script>\n",
    "\n",
    "<footer id=\"attribution\" style=\"float:right; color:#808080; background:#fff;\">\n",
    "Created with Jupyter by José Pablo Jiménez Mendoza & Sofia Hernandez Zatarain.\n",
    "</footer>"
   ]
  }
 ],
 "metadata": {
  "kernelspec": {
   "display_name": "Python 3 (ipykernel)",
   "language": "python",
   "name": "python3"
  },
  "language_info": {
   "codemirror_mode": {
    "name": "ipython",
    "version": 3
   },
   "file_extension": ".py",
   "mimetype": "text/x-python",
   "name": "python",
   "nbconvert_exporter": "python",
   "pygments_lexer": "ipython3",
   "version": "3.9.13"
  }
 },
 "nbformat": 4,
 "nbformat_minor": 5
}
